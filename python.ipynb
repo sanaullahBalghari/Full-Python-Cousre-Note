{
 "cells": [
  {
   "cell_type": "markdown",
   "metadata": {},
   "source": [
    "# Python Bootcamp\n"
   ]
  },
  {
   "cell_type": "markdown",
   "metadata": {},
   "source": [
    "### Lecture 01.\n",
    "#### Topics:\n",
    "####  1.Type 2.Reseverd word 3.variable 4.operators 5.Operator \n",
    "####  precedence 6.integer Division 7.conversion between type\n",
    "#### 8.user input 9.comment (#)"
   ]
  },
  {
   "cell_type": "markdown",
   "metadata": {},
   "source": [
    "#### TASK 01:"
   ]
  },
  {
   "cell_type": "code",
   "execution_count": null,
   "metadata": {},
   "outputs": [],
   "source": [
    "\n",
    "a=int(input(\"Enter your date of brith:\"))\n",
    "b=int(input(\"Enter curent year:\"))\n",
    "AGE=b-a\n",
    "print(\"My Age is \",AGE)"
   ]
  },
  {
   "cell_type": "markdown",
   "metadata": {},
   "source": [
    "#### TASK 02:"
   ]
  },
  {
   "cell_type": "code",
   "execution_count": 1,
   "metadata": {},
   "outputs": [
    {
     "name": "stdout",
     "output_type": "stream",
     "text": [
      "faranhite =  32.0\n"
     ]
    }
   ],
   "source": [
    "\n",
    "c = int(input(\"Enter temperature in celcise\"))\n",
    "F = (c)*9/5+32\n",
    "print(\"faranhite = \",F)\n",
    "\n"
   ]
  },
  {
   "cell_type": "markdown",
   "metadata": {},
   "source": [
    "#### TASK 03:"
   ]
  },
  {
   "cell_type": "code",
   "execution_count": 5,
   "metadata": {},
   "outputs": [
    {
     "name": "stdout",
     "output_type": "stream",
     "text": [
      "wellcome snaullah\n"
     ]
    }
   ],
   "source": [
    "my_name=input('enter your name')\n",
    "print(\"wellcome\",my_name)"
   ]
  },
  {
   "cell_type": "markdown",
   "metadata": {},
   "source": [
    "### Lecture 02:\n",
    "#### Topics:\n",
    "#### 1.comparision operator 2.indentation 3.One_way Decision\n",
    "#### 4.Two_way Decision 5.Nested Decision 6.Multi_way Decision\n",
    "#### 7.try/except to compensate for error"
   ]
  },
  {
   "cell_type": "markdown",
   "metadata": {},
   "source": [
    "#### TASK:"
   ]
  },
  {
   "cell_type": "code",
   "execution_count": null,
   "metadata": {},
   "outputs": [],
   "source": [
    "# Task 03:\n",
    "age1=int(input('Enter frist person age'))\n",
    "age2=int(input('Enter second person age'))\n",
    "if age1==age2:\n",
    "   print('Age are same')\n",
    "elif age1>age2:\n",
    "   print('frist is older than second person')\n",
    "elif age1<age2:\n",
    "   print('Frist person is smalest than second person')\n",
    "else:\n",
    "   print('age not mention')"
   ]
  },
  {
   "cell_type": "code",
   "execution_count": null,
   "metadata": {},
   "outputs": [],
   "source": [
    "# TASK05\n",
    "value1=int(input('Enter value 1'))\n",
    "value2=int(input('Enter value 2'))\n",
    "operator=input('Enter an operator ')\n",
    "if operator=='+':\n",
    "    print('The addition is ',value1+value2)\n",
    "elif operator=='-':\n",
    "    print('The substraction is',value1-value2)\n",
    "elif operator=='*':\n",
    "    print('The multipliction is',value1*value2)\n",
    "elif operator=='/':\n",
    "    print('The division is',value1/value2)\n",
    "else:\n",
    "    print('wrong operator')\n"
   ]
  },
  {
   "cell_type": "code",
   "execution_count": 1,
   "metadata": {},
   "outputs": [
    {
     "name": "stdout",
     "output_type": "stream",
     "text": [
      "this is wrog\n"
     ]
    }
   ],
   "source": [
    "# Task03\n",
    "a=int(input('enter numbr a'))\n",
    "b=int(input('enter numbr b'))\n",
    "try:\n",
    " print(x)\n",
    "except:\n",
    " print(\"this is wrog\")"
   ]
  },
  {
   "cell_type": "markdown",
   "metadata": {},
   "source": [
    "### Lecture 03:\n",
    "#### Topics:\n",
    "#### 1.Function 2.Buil_in_function 3.Parameters 4.Argument\n",
    "#### 5.Building our own function 6.Lambda Function\n",
    "#### 7.Lambda Function"
   ]
  },
  {
   "cell_type": "code",
   "execution_count": null,
   "metadata": {},
   "outputs": [],
   "source": [
    "# Task 07\n",
    "# area of rectangle\n",
    "def area(lenth,width):\n",
    "    result=lenth*width\n",
    "    return result\n",
    "add_result=area(10,20)\n",
    "print(\"the area of rectangle is\",add_result)\n",
    "\n",
    "# def area(lenth,width):\n",
    "#     print(\"the area of rectangle is\",lenth*width)\n",
    "# area(10,20)"
   ]
  },
  {
   "cell_type": "code",
   "execution_count": 5,
   "metadata": {},
   "outputs": [
    {
     "name": "stdout",
     "output_type": "stream",
     "text": [
      "print c is maximum\n"
     ]
    }
   ],
   "source": [
    "# Task 08\n",
    "# maximum number\n",
    "a=int(input(\"enter number a\"))\n",
    "b=int(input(\"enter number b\"))\n",
    "c=int(input(\"enter number c\"))\n",
    "def maximum(a,b,c):\n",
    "    if a>(b and c):\n",
    "        print(' a is maximum')\n",
    "    elif b>(a and c):\n",
    "        print(' b is maximum')\n",
    "    else:\n",
    "        print(' c is maximum')\n",
    "maximum(a,b,c)"
   ]
  },
  {
   "cell_type": "code",
   "execution_count": 3,
   "metadata": {},
   "outputs": [
    {
     "name": "stdout",
     "output_type": "stream",
     "text": [
      "120\n"
     ]
    }
   ],
   "source": [
    "# task 09\n",
    "# Factorial\n",
    "def factorial(a):\n",
    "    fact=1\n",
    "    for p in range(a,0,-1):\n",
    "        fact=fact*p\n",
    "    print(fact)\n",
    "n=int(input('Enter  any numbr'))\n",
    "factorial(n)\n",
    "# print(\"fsctorial of \"'n' \" is \")\n"
   ]
  },
  {
   "cell_type": "markdown",
   "metadata": {},
   "source": [
    "### Lecture 04:\n",
    "###  Loop and iteration\n",
    "#### Topics:\n",
    "#### 1.While loop(indefinite) 2.infinite loop \n",
    "#### 3.Using break & contniue 4.using range function \n",
    "#### 5.For loops(definite) 6.iteration varaible\n",
    "#### 7.is and is not operator"
   ]
  },
  {
   "cell_type": "markdown",
   "metadata": {},
   "source": [
    "#### Lecture 4 Tasks:"
   ]
  },
  {
   "cell_type": "code",
   "execution_count": 1,
   "metadata": {},
   "outputs": [
    {
     "name": "stdout",
     "output_type": "stream",
     "text": [
      "5\n",
      "4\n",
      "3\n",
      "2\n",
      "1\n"
     ]
    }
   ],
   "source": [
    "# task 10\n",
    "n=int(input('Enter a number'))\n",
    "while n>0:\n",
    "    print(n)\n",
    "    n=n-1\n",
    "    if n==0:\n",
    "        break\n",
    "\n",
    "\n",
    "    "
   ]
  },
  {
   "cell_type": "code",
   "execution_count": 6,
   "metadata": {},
   "outputs": [
    {
     "name": "stdout",
     "output_type": "stream",
     "text": [
      "30\n"
     ]
    }
   ],
   "source": [
    "#  task 11\n",
    "largest=[10,20,30]\n",
    "temp=largest[0]\n",
    "\n",
    "for i in largest:\n",
    " if i > temp:\n",
    "    temp=i\n",
    "print(temp)\n",
    "\n",
    "\n"
   ]
  },
  {
   "cell_type": "code",
   "execution_count": 4,
   "metadata": {},
   "outputs": [
    {
     "name": "stdout",
     "output_type": "stream",
     "text": [
      "2\n",
      "4\n",
      "6\n",
      "8\n",
      "10\n",
      "12\n",
      "14\n",
      "16\n",
      "18\n"
     ]
    }
   ],
   "source": [
    "# task 12\n",
    "for i in range(2,20):\n",
    "\n",
    "    if i%2==0:\n",
    "        print(i)\n",
    "        continue\n",
    "    "
   ]
  },
  {
   "cell_type": "markdown",
   "metadata": {},
   "source": [
    "### lecture # 05\n",
    "### Topics \n",
    "#### 1.string type 2.Read/convert 3.indexing string\n",
    "####  3.Slicing string 4.Looping through string\n",
    "#### 5.Concatenating string with + 6.string operation\n",
    "#### 7.string library 8.string comparision\n",
    "#### 9.searching in string 10.Replacing text\n",
    "####  11.stripping white space 12.split method\n"
   ]
  },
  {
   "cell_type": "markdown",
   "metadata": {},
   "source": [
    "#### lecture 4 task:"
   ]
  },
  {
   "cell_type": "code",
   "execution_count": 5,
   "metadata": {},
   "outputs": [
    {
     "name": "stdout",
     "output_type": "stream",
     "text": [
      "a,e,i,o,u\n",
      "5\n"
     ]
    }
   ],
   "source": [
    "# today task 01\n",
    "vowels ='a,e,i,o,u'\n",
    "spcae_replace = vowels.replace(\",\",\"\")\n",
    "print(vowels)\n",
    "print( len(spcae_replace))"
   ]
  },
  {
   "cell_type": "code",
   "execution_count": 8,
   "metadata": {},
   "outputs": [
    {
     "name": "stdout",
     "output_type": "stream",
     "text": [
      "9\n",
      "halluanas\n"
     ]
    }
   ],
   "source": [
    "# to day task 02\n",
    "name='sanaullah'\n",
    "print(len(name))\n",
    "print(name[::-1])"
   ]
  },
  {
   "cell_type": "code",
   "execution_count": 9,
   "metadata": {},
   "outputs": [
    {
     "name": "stdout",
     "output_type": "stream",
     "text": [
      "well come to School\n"
     ]
    }
   ],
   "source": [
    "x='well come to class'\n",
    "print(x.replace('class','School'))"
   ]
  },
  {
   "cell_type": "code",
   "execution_count": 41,
   "metadata": {},
   "outputs": [
    {
     "name": "stdout",
     "output_type": "stream",
     "text": [
      "4\n"
     ]
    }
   ],
   "source": [
    "name = 'sanaullah'\n",
    "count = 0\n",
    "for i in name:\n",
    "    # print(i)\n",
    "    if i == (\"a\" and \"e\" and \"i\" and \"o\"and \"u\"):\n",
    "      print(count)\n",
    "    count = count+1"
   ]
  },
  {
   "cell_type": "markdown",
   "metadata": {},
   "source": [
    "### lecture:6\n",
    "#### Topics:\n",
    "#### 1.opening a file  2. file reading method \n",
    "#### 3.file structure - new line charachter \n",
    "#### 4.reading the file as whole 5. searching through a file\n",
    "#### 6.write to a file 7. creating new files\n",
    "#### 7.deletiong file and folders 8.with open() statment\n",
    "#### 9.JSO and CSV file "
   ]
  },
  {
   "cell_type": "code",
   "execution_count": 7,
   "metadata": {},
   "outputs": [
    {
     "name": "stdout",
     "output_type": "stream",
     "text": [
      "balgahrihellohellohello\n",
      "hello\n",
      "29\n"
     ]
    }
   ],
   "source": [
    "file=open('task6.txt','r')\n",
    "txt=file.read()\n",
    "print(txt)\n",
    "print(len(txt))"
   ]
  },
  {
   "cell_type": "code",
   "execution_count": 10,
   "metadata": {},
   "outputs": [
    {
     "name": "stdout",
     "output_type": "stream",
     "text": [
      "hello word\n",
      "10\n"
     ]
    }
   ],
   "source": [
    "file=open('balhg.txt','w')\n",
    "file.write(\"hello word\")\n",
    "file.close()\n",
    "file=open('balhg.txt','r')\n",
    "txt=file.read()\n",
    "\n",
    "print(txt)\n",
    "print(len(txt))\n",
    "\n"
   ]
  },
  {
   "cell_type": "code",
   "execution_count": 1,
   "metadata": {},
   "outputs": [
    {
     "name": "stdout",
     "output_type": "stream",
     "text": [
      "line number: 2 : hello aziz kb ana h\n",
      "\n"
     ]
    }
   ],
   "source": [
    "file=open('sanaullah.txt','r')\n",
    "word=input(\"enter the words  to serach\")\n",
    "s=\" \"\n",
    "count=1\n",
    "while s:\n",
    "    count+=1\n",
    "    s=file.readline()\n",
    "    l=s.split()\n",
    "    if word in l:\n",
    "        print(\"line number:\",count,':',s)\n"
   ]
  },
  {
   "cell_type": "code",
   "execution_count": 3,
   "metadata": {},
   "outputs": [
    {
     "name": "stdout",
     "output_type": "stream",
     "text": [
      "sana\n",
      "jan\n",
      "kab\n"
     ]
    }
   ],
   "source": [
    "while True:\n",
    "    words=input('enter the string')\n",
    "    file=open('balhg.txt','a')\n",
    "    if words=='0':\n",
    "        break\n",
    "    file.write(words+\"\\n\")\n",
    "    file.close() \n",
    "    print(words)   "
   ]
  },
  {
   "cell_type": "markdown",
   "metadata": {},
   "source": [
    "\n",
    "#### lecture 07:\n",
    "### Topics:\n",
    "#### 1 Concept of a collection   2 Slicing lists\n",
    "#### 3.List and definite loop   4. List methods: append \n",
    "#### 5.Indexing and lookup      6.Storing lists\n",
    "#### 7.List mutability          8.Spiliting string into list words\n",
    "#### 9.Function:Len,mim,max,sum  10..Using split to parse strings\n",
    "#### 11.List Comprehension"
   ]
  },
  {
   "cell_type": "markdown",
   "metadata": {},
   "source": [
    "### Lecture 7 Task:"
   ]
  },
  {
   "cell_type": "code",
   "execution_count": 4,
   "metadata": {},
   "outputs": [
    {
     "name": "stdout",
     "output_type": "stream",
     "text": [
      "['1']\n",
      "['1', '2']\n",
      "['1', '2', '3']\n",
      "['1', '2', '3', '4']\n",
      "the lentght of list is 4\n"
     ]
    }
   ],
   "source": [
    "values = []\n",
    "while True:\n",
    "    num = input(\"Enter a value \")\n",
    "    if num== \"s\":\n",
    "        break \n",
    "    values.append(num)\n",
    "    print(values)\n",
    "print(\"the lentght of list is\",len(values))\n",
    "\n"
   ]
  },
  {
   "cell_type": "code",
   "execution_count": 6,
   "metadata": {},
   "outputs": [
    {
     "name": "stdout",
     "output_type": "stream",
     "text": [
      "4\n",
      "['this', ' is ', 'python', ' class']\n"
     ]
    }
   ],
   "source": [
    "emial='this, is ,python, class'\n",
    "toatal=emial.split(',')\n",
    "print(toatal)"
   ]
  },
  {
   "cell_type": "code",
   "execution_count": 13,
   "metadata": {},
   "outputs": [
    {
     "name": "stdout",
     "output_type": "stream",
     "text": [
      "[2, 4, 6, 8, 10]\n",
      "The sum of list is 30\n",
      "The maximum numbr of list is 10\n",
      "The minimum number of list is 2\n",
      "The total length of list is 5\n",
      "6.0\n"
     ]
    }
   ],
   "source": [
    "list=[2,4,6,8,10]\n",
    "print(list)\n",
    "print(\"The sum of list is\",sum(list))\n",
    "print(\"The maximum numbr of list is\",max(list))\n",
    "print(\"The minimum number of list is\",min(list))\n",
    "print(\"The total length of list is\",len(list))\n",
    "print((sum(list))/(len(list)))"
   ]
  },
  {
   "cell_type": "markdown",
   "metadata": {},
   "source": [
    "### lecture:8\n",
    "#### Topics:\n",
    "#### 1.Tuple syntax 2.immutability 3.comparability\n",
    "#### 4.sorting 5.Tuples assignment statement\n",
    "#### 6.sorting values eiter keys or values\n",
    "#### 7.sets and thier methods"
   ]
  },
  {
   "cell_type": "markdown",
   "metadata": {},
   "source": [
    "### lecture 8 Tasks:"
   ]
  },
  {
   "cell_type": "code",
   "execution_count": 1,
   "metadata": {},
   "outputs": [
    {
     "name": "stdout",
     "output_type": "stream",
     "text": [
      "The unsorted list are (10, 30, 50, 60, 20)\n",
      "The acending order list is [10, 20, 30, 50, 60]\n",
      "The decending order list are [60, 50, 30, 20, 10]\n"
     ]
    }
   ],
   "source": [
    "# 1\n",
    "tuple_list=(10,30,50,60,20)\n",
    "print(\"The unsorted list are\",tuple_list)\n",
    "acending=sorted(tuple_list)\n",
    "print(\"The acending order list is\",acending)\n",
    "decending=sorted(tuple_list, reverse=True)\n",
    "print(\"The decending order list are\",decending)"
   ]
  },
  {
   "cell_type": "code",
   "execution_count": 2,
   "metadata": {},
   "outputs": [
    {
     "name": "stdout",
     "output_type": "stream",
     "text": [
      "Tuple 2 is greater\n"
     ]
    }
   ],
   "source": [
    "# 2\n",
    "tuple1 = (3, 5, 8)\n",
    "tuple2 = (4, 6, 7)\n",
    "if tuple1 > tuple2:\n",
    "    print(\"Tuple 1 is greater\")\n",
    "elif tuple2 > tuple1:\n",
    "    print(\"Tuple 2 is greater\")\n",
    "else:\n",
    "    print(\"Tuples are equal\")"
   ]
  },
  {
   "cell_type": "code",
   "execution_count": 41,
   "metadata": {},
   "outputs": [
    {
     "name": "stdout",
     "output_type": "stream",
     "text": [
      "(1, 2, 3, 4, 5)\n",
      "Tuples are immutable.\n",
      "2\n",
      "the lenght of tuple is 5\n",
      "(2, 3)\n",
      "(1, '3', 3, 4, 5)\n"
     ]
    }
   ],
   "source": [
    "# 3\n",
    "my_tuple = (1, 2, 3, 4, 5)\n",
    "print(my_tuple)\n",
    "\n",
    "try:\n",
    "    my_tuple[0] = 6\n",
    "except TypeError:\n",
    "    print(\"Tuples are immutable.\")\n",
    "print(my_tuple[1])\n",
    "print(\"the lenght of tuple is\",(len(my_tuple)))\n",
    "print(my_tuple[1:3])\n",
    "update=list(my_tuple)\n",
    "update[1]='3'\n",
    "my_tuple=tuple(update)\n",
    "print(my_tuple)"
   ]
  },
  {
   "cell_type": "markdown",
   "metadata": {},
   "source": [
    "### Lecture 09:\n",
    "#### Topics:\n",
    "#### 1 .what is and a collection 2.python dectionaries & method\n",
    " #### 3.comparing list and dicitionaries 4.Definig Loop in dicitionaries\n",
    "####  5.Retriving keys and values 6.using the get method \n",
    " #### 7.Two itration varible .counting program"
   ]
  },
  {
   "cell_type": "code",
   "execution_count": 4,
   "metadata": {},
   "outputs": [
    {
     "name": "stdout",
     "output_type": "stream",
     "text": [
      "c\n"
     ]
    }
   ],
   "source": [
    "a = input(\"enter name of student: \")\n",
    "thisdict =\t{\n",
    "  \"sanaullah\": \"A+\",\n",
    "  \"aziz\": \"c\",\n",
    "}\n",
    "print(thisdict.get(a))\n",
    "\n",
    "    \n",
    "    \n",
    " "
   ]
  },
  {
   "cell_type": "code",
   "execution_count": 2,
   "metadata": {},
   "outputs": [
    {
     "name": "stdout",
     "output_type": "stream",
     "text": [
      "{'Baber': 150}\n",
      "max 150\n"
     ]
    }
   ],
   "source": [
    "n = 0\n",
    "scoreboard =\t{}\n",
    "while True:\n",
    " a = input(\"enter name of player: \")\n",
    " if a == '0':\n",
    "    break\n",
    " b = int(input(\"enter score: \"))\n",
    " scoreboard[a] = b\n",
    " print(scoreboard)\n",
    "#  n = n+b\n",
    "#  print(\"know scoure is \",n)\n",
    "b=scoreboard.values()\n",
    "c = list(b)\n",
    "n = c[0]\n",
    "for i in c:\n",
    "  if i>n:\n",
    "    n = i\n",
    "# print(c)\n",
    "print(\"max\",n)\n",
    "# #  print(thisdict.get(a))"
   ]
  },
  {
   "cell_type": "code",
   "execution_count": 3,
   "metadata": {},
   "outputs": [
    {
     "name": "stdout",
     "output_type": "stream",
     "text": [
      "{'Lahore': '900000', 'Skardu': '500000', 'Rawalpindi': '6000000', 'Karachi': '300000000'}\n"
     ]
    }
   ],
   "source": [
    "\n",
    "population={}\n",
    "while True:\n",
    "    name=input(\"Enter the name of cities\")\n",
    "    if name=='0':\n",
    "        break\n",
    "    poup=input(\"enter the  populaton\")\n",
    "    population[name]=poup\n",
    "    # file= open('sana1.txt','a')\n",
    "    # file.write(name+' ')\n",
    "    # file.write(poup+\"\\n\")\n",
    "    # # file.close()\n",
    "print(population) \n",
    "          "
   ]
  }
 ],
 "metadata": {
  "kernelspec": {
   "display_name": "Python 3",
   "language": "python",
   "name": "python3"
  },
  "language_info": {
   "codemirror_mode": {
    "name": "ipython",
    "version": 3
   },
   "file_extension": ".py",
   "mimetype": "text/x-python",
   "name": "python",
   "nbconvert_exporter": "python",
   "pygments_lexer": "ipython3",
   "version": "3.11.2"
  },
  "orig_nbformat": 4
 },
 "nbformat": 4,
 "nbformat_minor": 2
}
