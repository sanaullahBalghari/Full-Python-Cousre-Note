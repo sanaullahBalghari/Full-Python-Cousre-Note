{
 "cells": [
  {
   "cell_type": "code",
   "execution_count": 1,
   "metadata": {},
   "outputs": [
    {
     "name": "stdout",
     "output_type": "stream",
     "text": [
      "My Age is  22\n"
     ]
    }
   ],
   "source": [
    "# TASK#01\n",
    "a=int(input(\"Enter your date of brith:\"))\n",
    "b=int(input(\"Enter curent year:\"))\n",
    "AGE=b-a\n",
    "print(\"My Age is \",AGE)\n"
   ]
  },
  {
   "cell_type": "code",
   "execution_count": null,
   "metadata": {},
   "outputs": [],
   "source": []
  },
  {
   "cell_type": "code",
   "execution_count": 5,
   "metadata": {},
   "outputs": [
    {
     "name": "stdout",
     "output_type": "stream",
     "text": [
      "faranhite =  104.0\n"
     ]
    },
    {
     "ename": "NameError",
     "evalue": "name 'f' is not defined",
     "output_type": "error",
     "traceback": [
      "\u001b[1;31m---------------------------------------------------------------------------\u001b[0m",
      "\u001b[1;31mNameError\u001b[0m                                 Traceback (most recent call last)",
      "\u001b[1;32me:\\pythhon\\task01.ipynb Cell 3\u001b[0m line \u001b[0;36m5\n\u001b[0;32m      <a href='vscode-notebook-cell:/e%3A/pythhon/task01.ipynb#W1sZmlsZQ%3D%3D?line=2'>3</a>\u001b[0m F \u001b[39m=\u001b[39m (c)\u001b[39m*\u001b[39m\u001b[39m9\u001b[39m\u001b[39m/\u001b[39m\u001b[39m5\u001b[39m\u001b[39m+\u001b[39m\u001b[39m32\u001b[39m\n\u001b[0;32m      <a href='vscode-notebook-cell:/e%3A/pythhon/task01.ipynb#W1sZmlsZQ%3D%3D?line=3'>4</a>\u001b[0m \u001b[39mprint\u001b[39m(\u001b[39m\"\u001b[39m\u001b[39mfaranhite = \u001b[39m\u001b[39m\"\u001b[39m,F)\n\u001b[1;32m----> <a href='vscode-notebook-cell:/e%3A/pythhon/task01.ipynb#W1sZmlsZQ%3D%3D?line=4'>5</a>\u001b[0m \u001b[39mprint\u001b[39m(\u001b[39mf\u001b[39m\u001b[39m\"\u001b[39m\u001b[39mtemprature in\u001b[39m\u001b[39m{\u001b[39;00mf\u001b[39m}\u001b[39;00m\u001b[39m faranhite equal to\u001b[39m\u001b[39m{\u001b[39;00mc\u001b[39m}\u001b[39;00m\u001b[39m\"\u001b[39m)\n",
      "\u001b[1;31mNameError\u001b[0m: name 'f' is not defined"
     ]
    }
   ],
   "source": [
    "# TASK # 02\n",
    "c = int(input(\"Enter temperature in celcise\"))\n",
    "F = (c)*9/5+32\n",
    "print(\"faranhite = \",F)\n",
    "# print(f\"temprature in{f} faranhite equal to{c}\")"
   ]
  },
  {
   "cell_type": "code",
   "execution_count": 3,
   "metadata": {},
   "outputs": [
    {
     "name": "stdout",
     "output_type": "stream",
     "text": [
      "wellcome sanaullah\n"
     ]
    }
   ],
   "source": [
    "# TASK#03\n",
    "my_name=input('enter your name')\n",
    "print(\"wellcome\",my_name)"
   ]
  },
  {
   "cell_type": "markdown",
   "metadata": {},
   "source": [
    "LECTURE # 2\n",
    "If statements"
   ]
  },
  {
   "cell_type": "code",
   "execution_count": 10,
   "metadata": {},
   "outputs": [
    {
     "name": "stdout",
     "output_type": "stream",
     "text": [
      "a is less than b\n"
     ]
    }
   ],
   "source": [
    "a=int(input('Enter number a'))\n",
    "b=int(input('Enter second number b'))\n",
    "if a==b:\n",
    "    print('print a is equal to b')\n",
    "if a<b:\n",
    "    print(\"a is less than b\")\n",
    "if a>b:\n",
    "    print('a is greater than b')           "
   ]
  },
  {
   "cell_type": "code",
   "execution_count": 16,
   "metadata": {},
   "outputs": [
    {
     "name": "stdout",
     "output_type": "stream",
     "text": [
      "value is not found\n"
     ]
    }
   ],
   "source": [
    "a=int(input('Enter number a'))\n",
    "b=int(input('Enter  number b'))\n",
    "if a==b:\n",
    "    print('print a is equal to b')\n",
    "else:\n",
    "    print('value is not found')    "
   ]
  },
  {
   "cell_type": "code",
   "execution_count": 20,
   "metadata": {},
   "outputs": [
    {
     "name": "stdout",
     "output_type": "stream",
     "text": [
      "print a is equal to b\n"
     ]
    }
   ],
   "source": [
    "a=int(input('Enter number a'))\n",
    "b=int(input('Enter  number b'))\n",
    "if a==b:\n",
    "    print(' a is equal to b')\n",
    "elif a>b:\n",
    "    print('a is grater than b')      \n",
    "else:\n",
    "    print('value is not found')"
   ]
  },
  {
   "cell_type": "code",
   "execution_count": 22,
   "metadata": {},
   "outputs": [
    {
     "name": "stdout",
     "output_type": "stream",
     "text": [
      "name is not found\n"
     ]
    }
   ],
   "source": [
    "Name=input('enter name')\n",
    "if Name=='Ali':\n",
    "    print('name is Ali')\n",
    "\n",
    "else:\n",
    "    print('name is not found')"
   ]
  },
  {
   "cell_type": "code",
   "execution_count": 23,
   "metadata": {},
   "outputs": [
    {
     "name": "stdout",
     "output_type": "stream",
     "text": [
      "1 * 4 = 4\n",
      "1 * 5 = 5\n",
      "1 * 6 = 6\n",
      "2 * 4 = 8\n",
      "2 * 5 = 10\n",
      "2 * 6 = 12\n",
      "3 * 4 = 12\n",
      "3 * 5 = 15\n",
      "3 * 6 = 18\n"
     ]
    }
   ],
   "source": [
    "# nested loop\n",
    "list1 = [1, 2, 3]\n",
    "list2 = [4, 5, 6]\n",
    "\n",
    "for x in list1:\n",
    "    for y in list2:\n",
    "        product = x * y\n",
    "        print(f\"{x} * {y} = {product}\")\n",
    "\n"
   ]
  },
  {
   "cell_type": "code",
   "execution_count": null,
   "metadata": {},
   "outputs": [],
   "source": [
    "age=int(input('enter your age'))\n",
    "if age>=20:\n",
    "    print('you are aligible for vote')\n",
    "elif age==18:\n",
    "    print('you are not aligible for vote')\n",
    "elif age<15:\n",
    "    print('age is not found')\n",
    "else:\n",
    "    print('no way')\n"
   ]
  },
  {
   "cell_type": "markdown",
   "metadata": {},
   "source": [
    "LECTURE 02:\n",
    "TASKS."
   ]
  },
  {
   "cell_type": "code",
   "execution_count": 14,
   "metadata": {},
   "outputs": [
    {
     "name": "stdout",
     "output_type": "stream",
     "text": [
      "frist is older than second person\n"
     ]
    }
   ],
   "source": [
    "# TASK 01\n",
    "age1=int(input('Enter frist person age'))\n",
    "age2=int(input('Enter second person age'))\n",
    "if age1==age2:\n",
    "   print('Age are same')\n",
    "elif age1>age2:\n",
    "   print('frist is older than second person')\n",
    "elif age1<age2:\n",
    "   print('Frist person is smalest than second person')\n",
    "else:\n",
    "   print('age not mention')"
   ]
  },
  {
   "cell_type": "code",
   "execution_count": 15,
   "metadata": {},
   "outputs": [
    {
     "name": "stdout",
     "output_type": "stream",
     "text": [
      "The addition is  20\n"
     ]
    }
   ],
   "source": [
    "# TASK02\n",
    "value1=int(input('Enter value 1'))\n",
    "value2=int(input('Enter value 2'))\n",
    "operator=input('Enter an operator ')\n",
    "if operator=='+':\n",
    "    print('The addition is ',value1+value2)\n",
    "elif operator=='-':\n",
    "    print('The substraction is',value1-value2)\n",
    "elif operator=='*':\n",
    "    print('The multipliction is',value1*value2)\n",
    "elif operator=='/':\n",
    "    print('The division is',value1/value2)\n",
    "else:\n",
    "    print('wrong operator')\n",
    "\n",
    "\n",
    "\n"
   ]
  },
  {
   "cell_type": "code",
   "execution_count": 20,
   "metadata": {},
   "outputs": [
    {
     "name": "stdout",
     "output_type": "stream",
     "text": [
      "this is wrog\n"
     ]
    }
   ],
   "source": [
    "# Task03\n",
    "a=int(input('enter numbr a'))\n",
    "b=int(input('enter numbr b'))\n",
    "try:\n",
    " print(x)\n",
    "except:\n",
    " print(\"this is wrog\")"
   ]
  },
  {
   "cell_type": "code",
   "execution_count": 18,
   "metadata": {},
   "outputs": [
    {
     "name": "stdout",
     "output_type": "stream",
     "text": [
      "200\n"
     ]
    }
   ],
   "source": [
    "num1 = int(input(\"enter first value\"))\n",
    "optr = input(\"enter first value +,-,*,/\")\n",
    "num2 = int(input(\"enter second value\"))\n",
    "if optr == '+':\n",
    "  aziz = lambda num1,num2: num1+num2\n",
    "  print(aziz(num1,num2))\n",
    "elif optr == '-':\n",
    "  aziz = lambda num1,num2: num1-num2\n",
    "  print(aziz(num1,num2))\n",
    "elif optr == '*':\n",
    "  aziz = lambda num1,num2: num1*num2\n",
    "  print(aziz(num1,num2))\n",
    "elif optr == '/':\n",
    "  aziz = lambda num1,num2: num1/num2\n",
    "  print(aziz(num1,num2))"
   ]
  },
  {
   "cell_type": "code",
   "execution_count": 4,
   "metadata": {},
   "outputs": [
    {
     "name": "stdout",
     "output_type": "stream",
     "text": [
      "apple\n",
      "bannna\n"
     ]
    }
   ],
   "source": [
    "fruites=[\"apple\",\"bannna\",\"patato,\"]\n",
    "for x in fruites:\n",
    "    print(x)\n",
    "    if x==\"bannna\":\n",
    "        break\n"
   ]
  },
  {
   "cell_type": "code",
   "execution_count": 5,
   "metadata": {},
   "outputs": [
    {
     "name": "stdout",
     "output_type": "stream",
     "text": [
      "apple\n"
     ]
    }
   ],
   "source": [
    "fruits = [\"apple\", \"banana\", \"cherry\"]\n",
    "for x in fruits:\n",
    "  if x == \"banana\":\n",
    "    break\n",
    "  print(x)"
   ]
  },
  {
   "cell_type": "code",
   "execution_count": null,
   "metadata": {},
   "outputs": [],
   "source": []
  },
  {
   "cell_type": "code",
   "execution_count": 3,
   "metadata": {},
   "outputs": [
    {
     "name": "stdout",
     "output_type": "stream",
     "text": [
      "hello\n",
      "my name is sanaullah\n"
     ]
    }
   ],
   "source": [
    "name=[\"hello\",\"my name is sanaullah\"]\n",
    "for x in name:\n",
    "    print(x)"
   ]
  },
  {
   "cell_type": "code",
   "execution_count": 14,
   "metadata": {},
   "outputs": [
    {
     "name": "stdout",
     "output_type": "stream",
     "text": [
      "Finally finished!\n"
     ]
    }
   ],
   "source": [
    "for x in range(x):\n",
    "  print(x)\n",
    "else:\n",
    "  print(\"Finally finished!\")"
   ]
  },
  {
   "cell_type": "code",
   "execution_count": 3,
   "metadata": {},
   "outputs": [
    {
     "name": "stdout",
     "output_type": "stream",
     "text": [
      "sana\n",
      "ali\n",
      "ilyas\n",
      "shoiab\n",
      "a\n",
      "l\n",
      "i\n"
     ]
    }
   ],
   "source": [
    "name=[\"sana\",\"ali\",\"ilyas\",\"shoiab\"]\n",
    "for n in name:\n",
    "    print(n)\n",
    "special=\"ali\"\n",
    "for x in special:\n",
    "    print(x)\n"
   ]
  },
  {
   "cell_type": "code",
   "execution_count": 11,
   "metadata": {},
   "outputs": [
    {
     "name": "stdout",
     "output_type": "stream",
     "text": [
      "[1]\n",
      "[1, 4]\n",
      "[1, 4, 9]\n",
      "[1, 4, 9, 16]\n",
      "[1, 4, 9, 16, 81]\n",
      "[1, 4, 9, 16, 81, 256]\n"
     ]
    }
   ],
   "source": [
    "number=[1,2,3,4,9,16]\n",
    "b =[]\n",
    "for i in number:\n",
    "    b.append(i**2)\n",
    "    print(b)"
   ]
  },
  {
   "cell_type": "code",
   "execution_count": 3,
   "metadata": {},
   "outputs": [
    {
     "name": "stdout",
     "output_type": "stream",
     "text": [
      "0\n",
      "1\n"
     ]
    }
   ],
   "source": [
    "sum=0\n",
    "for i in range(2):\n",
    "    sum=sum+i\n",
    "    print(sum)\n",
    "\n"
   ]
  },
  {
   "cell_type": "code",
   "execution_count": 4,
   "metadata": {},
   "outputs": [
    {
     "ename": "ValueError",
     "evalue": "invalid literal for int() with base 10: ''",
     "output_type": "error",
     "traceback": [
      "\u001b[1;31m---------------------------------------------------------------------------\u001b[0m",
      "\u001b[1;31mValueError\u001b[0m                                Traceback (most recent call last)",
      "\u001b[1;32me:\\pythhon\\task01.ipynb Cell 25\u001b[0m line \u001b[0;36m1\n\u001b[1;32m----> <a href='vscode-notebook-cell:/e%3A/pythhon/task01.ipynb#X30sZmlsZQ%3D%3D?line=0'>1</a>\u001b[0m n\u001b[39m=\u001b[39m\u001b[39mint\u001b[39;49m(\u001b[39minput\u001b[39;49m(\u001b[39m'\u001b[39;49m\u001b[39mEnter a number\u001b[39;49m\u001b[39m'\u001b[39;49m))\n\u001b[0;32m      <a href='vscode-notebook-cell:/e%3A/pythhon/task01.ipynb#X30sZmlsZQ%3D%3D?line=1'>2</a>\u001b[0m \u001b[39mwhile\u001b[39;00m n\u001b[39m>\u001b[39m\u001b[39m0\u001b[39m:\n\u001b[0;32m      <a href='vscode-notebook-cell:/e%3A/pythhon/task01.ipynb#X30sZmlsZQ%3D%3D?line=2'>3</a>\u001b[0m     \u001b[39mprint\u001b[39m(n)\n",
      "\u001b[1;31mValueError\u001b[0m: invalid literal for int() with base 10: ''"
     ]
    }
   ],
   "source": [
    "n=int(input('Enter a number'))\n",
    "while n>0:\n",
    "    print(n)\n",
    "    # if n == 5:\n",
    "    #     print(n)\n",
    "    #     break\n",
    "    n=n-1\n",
    "# print(\"stop\")\n",
    "# print(n)\n"
   ]
  },
  {
   "cell_type": "code",
   "execution_count": null,
   "metadata": {},
   "outputs": [],
   "source": [
    "for num in range(1,11):\n",
    "    if num%3==0:\n",
    "        continue\n",
    "    print(num)"
   ]
  },
  {
   "cell_type": "code",
   "execution_count": 3,
   "metadata": {},
   "outputs": [
    {
     "ename": "SyntaxError",
     "evalue": "expected ':' (2305707248.py, line 3)",
     "output_type": "error",
     "traceback": [
      "\u001b[1;36m  Cell \u001b[1;32mIn[3], line 3\u001b[1;36m\u001b[0m\n\u001b[1;33m    for values in[1,2,3,4,5]\u001b[0m\n\u001b[1;37m                            ^\u001b[0m\n\u001b[1;31mSyntaxError\u001b[0m\u001b[1;31m:\u001b[0m expected ':'\n"
     ]
    }
   ],
   "source": [
    "count=0\n",
    "sum=0\n",
    "for values in[1,2,3,4,5]\n",
    "count=count+1\n",
    "sum=sum+values\n",
    "print(count,values,sum)"
   ]
  },
  {
   "cell_type": "markdown",
   "metadata": {},
   "source": [
    "#### string data type"
   ]
  },
  {
   "cell_type": "code",
   "execution_count": 6,
   "metadata": {},
   "outputs": [
    {
     "ename": "SyntaxError",
     "evalue": "invalid syntax. Perhaps you forgot a comma? (2893560799.py, line 3)",
     "output_type": "error",
     "traceback": [
      "\u001b[1;36m  Cell \u001b[1;32mIn[6], line 3\u001b[1;36m\u001b[0m\n\u001b[1;33m    print(a*2  b*2)\u001b[0m\n\u001b[1;37m          ^\u001b[0m\n\u001b[1;31mSyntaxError\u001b[0m\u001b[1;31m:\u001b[0m invalid syntax. Perhaps you forgot a comma?\n"
     ]
    }
   ],
   "source": [
    "a='hello'\n",
    "b='sana'\n",
    "print(a*2 + b*2)"
   ]
  },
  {
   "cell_type": "code",
   "execution_count": 7,
   "metadata": {},
   "outputs": [
    {
     "name": "stdout",
     "output_type": "stream",
     "text": [
      "200\n"
     ]
    }
   ],
   "source": [
    "apple='100'\n",
    "print(int(apple)+100)"
   ]
  },
  {
   "cell_type": "code",
   "execution_count": null,
   "metadata": {},
   "outputs": [],
   "source": []
  },
  {
   "cell_type": "code",
   "execution_count": 11,
   "metadata": {},
   "outputs": [
    {
     "name": "stdout",
     "output_type": "stream",
     "text": [
      "s\n",
      "12\n"
     ]
    }
   ],
   "source": [
    "our_class ='python class'\n",
    "print(our_class[-1])\n",
    "print(len(our_class))"
   ]
  },
  {
   "cell_type": "code",
   "execution_count": 82,
   "metadata": {},
   "outputs": [
    {
     "name": "stdout",
     "output_type": "stream",
     "text": [
      "a,e,i,o,u\n",
      "5\n"
     ]
    }
   ],
   "source": [
    "# today task 01\n",
    "char ='a,e,i,o,u'\n",
    "charR = char.replace(\",\",\"\")\n",
    "print(char)\n",
    "print(len(charR))\n"
   ]
  },
  {
   "cell_type": "code",
   "execution_count": 13,
   "metadata": {},
   "outputs": [
    {
     "name": "stdout",
     "output_type": "stream",
     "text": [
      "apple\n",
      "apple\n",
      "apple\n",
      "apple\n",
      "apple\n"
     ]
    }
   ],
   "source": [
    "backet='apple'\n",
    "for char in backet:\n",
    "    print(backet)"
   ]
  },
  {
   "cell_type": "code",
   "execution_count": 20,
   "metadata": {},
   "outputs": [
    {
     "name": "stdout",
     "output_type": "stream",
     "text": [
      "sana\n",
      "sanaul\n",
      "ullah\n"
     ]
    }
   ],
   "source": [
    "# silicing\n",
    "name='sanaullah'\n",
    "print(name[0:4])\n",
    "print(name[:6])\n",
    "print(name[4:])"
   ]
  },
  {
   "cell_type": "code",
   "execution_count": 33,
   "metadata": {},
   "outputs": [
    {
     "name": "stdout",
     "output_type": "stream",
     "text": [
      "9\n",
      "halluanas\n"
     ]
    }
   ],
   "source": [
    "# to day task 02\n",
    "name='sanaullah'\n",
    "print(len(name))\n",
    "print(name[::-1])"
   ]
  },
  {
   "cell_type": "code",
   "execution_count": 25,
   "metadata": {},
   "outputs": [
    {
     "ename": "SyntaxError",
     "evalue": "invalid syntax. Perhaps you forgot a comma? (2917975138.py, line 4)",
     "output_type": "error",
     "traceback": [
      "\u001b[1;36m  Cell \u001b[1;32mIn[25], line 4\u001b[1;36m\u001b[0m\n\u001b[1;33m    print(name.startswith'p')\u001b[0m\n\u001b[1;37m          ^\u001b[0m\n\u001b[1;31mSyntaxError\u001b[0m\u001b[1;31m:\u001b[0m invalid syntax. Perhaps you forgot a comma?\n"
     ]
    }
   ],
   "source": [
    "# cheak char in name \n",
    "name='sanaullah'\n",
    "print( 's' in name)\n",
    "print(name.startswith'p')"
   ]
  },
  {
   "cell_type": "code",
   "execution_count": 28,
   "metadata": {},
   "outputs": [
    {
     "name": "stdout",
     "output_type": "stream",
     "text": [
      "sanaullah\n",
      "Sanaullah\n",
      "SANAULLAH\n"
     ]
    }
   ],
   "source": [
    "name='Sanaullah'\n",
    "print(name.lower())\n",
    "print(name.capitalize())\n",
    "print(name.upper())"
   ]
  },
  {
   "cell_type": "code",
   "execution_count": null,
   "metadata": {},
   "outputs": [],
   "source": []
  },
  {
   "cell_type": "code",
   "execution_count": 47,
   "metadata": {},
   "outputs": [
    {
     "name": "stdout",
     "output_type": "stream",
     "text": [
      "sana\n"
     ]
    }
   ],
   "source": [
    "x='ali'\n",
    "print(x.replace('ali','sana'))"
   ]
  },
  {
   "cell_type": "code",
   "execution_count": 1,
   "metadata": {},
   "outputs": [
    {
     "name": "stdout",
     "output_type": "stream",
     "text": [
      "htere and hi\n"
     ]
    }
   ],
   "source": [
    "x=\"hi\"\n",
    "y=\"there\"\n",
    "print(\"{} and {}\".format(y,x))\n",
    "\n",
    "\n",
    "\n"
   ]
  },
  {
   "cell_type": "code",
   "execution_count": 34,
   "metadata": {},
   "outputs": [
    {
     "name": "stdout",
     "output_type": "stream",
     "text": [
      "4\n"
     ]
    }
   ],
   "source": [
    "x='ali khan'\n",
    "print(x.find('k'))"
   ]
  },
  {
   "cell_type": "code",
   "execution_count": null,
   "metadata": {},
   "outputs": [],
   "source": []
  },
  {
   "cell_type": "code",
   "execution_count": 33,
   "metadata": {},
   "outputs": [
    {
     "name": "stdout",
     "output_type": "stream",
     "text": [
      "['sana', 'ullah']\n"
     ]
    }
   ],
   "source": [
    "x='sana,ullah'\n",
    "print(x.split(','))"
   ]
  },
  {
   "cell_type": "code",
   "execution_count": null,
   "metadata": {},
   "outputs": [],
   "source": []
  },
  {
   "cell_type": "code",
   "execution_count": 3,
   "metadata": {},
   "outputs": [],
   "source": [
    "def add(x,y):\n",
    "    pass"
   ]
  },
  {
   "cell_type": "code",
   "execution_count": 15,
   "metadata": {},
   "outputs": [
    {
     "name": "stdout",
     "output_type": "stream",
     "text": [
      "gmial.com\n"
     ]
    }
   ],
   "source": [
    "data=\"sanaullahakhonzada@gmial.com hhh\"\n",
    "at_pos=data.find('@')\n",
    "# print(at_pos)\n",
    "sp_pos=data.find(' ',at_pos)\n",
    "host=data[at_pos+1:sp_pos]\n",
    "print(host)\n"
   ]
  },
  {
   "cell_type": "code",
   "execution_count": 9,
   "metadata": {},
   "outputs": [],
   "source": [
    "data=\"sanaullahakhonzada@gmial.com hhh\"\n",
    "sp1_pos=data.find(' ')\n",
    "sp2_pos=data.find(' ',sp1_pos+1)\n"
   ]
  },
  {
   "cell_type": "code",
   "execution_count": 43,
   "metadata": {},
   "outputs": [
    {
     "name": "stdout",
     "output_type": "stream",
     "text": [
      "hello,well come file handling\n"
     ]
    },
    {
     "ename": "PermissionError",
     "evalue": "[WinError 32] The process cannot access the file because it is being used by another process: 'test.txt'",
     "output_type": "error",
     "traceback": [
      "\u001b[1;31m---------------------------------------------------------------------------\u001b[0m",
      "\u001b[1;31mPermissionError\u001b[0m                           Traceback (most recent call last)",
      "\u001b[1;32me:\\pythhon\\task01.ipynb Cell 48\u001b[0m line \u001b[0;36m1\n\u001b[0;32m     <a href='vscode-notebook-cell:/e%3A/pythhon/task01.ipynb#X65sZmlsZQ%3D%3D?line=10'>11</a>\u001b[0m \u001b[39m# with open('test.txt','r') as x:\u001b[39;00m\n\u001b[0;32m     <a href='vscode-notebook-cell:/e%3A/pythhon/task01.ipynb#X65sZmlsZQ%3D%3D?line=11'>12</a>\u001b[0m \u001b[39m#     print(file.read())\u001b[39;00m\n\u001b[0;32m     <a href='vscode-notebook-cell:/e%3A/pythhon/task01.ipynb#X65sZmlsZQ%3D%3D?line=12'>13</a>\u001b[0m \u001b[39m# # file=open('test.txt','r')\u001b[39;00m\n\u001b[0;32m     <a href='vscode-notebook-cell:/e%3A/pythhon/task01.ipynb#X65sZmlsZQ%3D%3D?line=13'>14</a>\u001b[0m \u001b[39m# txt=file.read(10)\u001b[39;00m\n\u001b[0;32m     <a href='vscode-notebook-cell:/e%3A/pythhon/task01.ipynb#X65sZmlsZQ%3D%3D?line=14'>15</a>\u001b[0m \u001b[39m# print(txt)\u001b[39;00m\n\u001b[0;32m     <a href='vscode-notebook-cell:/e%3A/pythhon/task01.ipynb#X65sZmlsZQ%3D%3D?line=15'>16</a>\u001b[0m \u001b[39m# for line in file(2)\u001b[39;00m\n\u001b[0;32m     <a href='vscode-notebook-cell:/e%3A/pythhon/task01.ipynb#X65sZmlsZQ%3D%3D?line=16'>17</a>\u001b[0m \u001b[39mimport\u001b[39;00m \u001b[39mos\u001b[39;00m\n\u001b[1;32m---> <a href='vscode-notebook-cell:/e%3A/pythhon/task01.ipynb#X65sZmlsZQ%3D%3D?line=17'>18</a>\u001b[0m os\u001b[39m.\u001b[39;49mremove(\u001b[39m'\u001b[39;49m\u001b[39mtest.txt\u001b[39;49m\u001b[39m'\u001b[39;49m)\n",
      "\u001b[1;31mPermissionError\u001b[0m: [WinError 32] The process cannot access the file because it is being used by another process: 'test.txt'"
     ]
    }
   ],
   "source": [
    "file=open('test.txt','w')\n",
    "file.write(\"hello,well come file handling\")\n",
    "file.close()\n",
    "file=open('test.txt','r')\n",
    "txt=file.read()\n",
    "print(txt)\n",
    "file.close()\n",
    "file=open('test.txt','a')\n",
    "file.write(\" \\n new line are enter \\n hellow\")\n",
    "file.close()\n",
    "# with open('test.txt','r') as x:\n",
    "#     print(file.read())\n",
    "# # file=open('test.txt','r')\n",
    "# txt=file.read(10)\n",
    "# print(txt)\n",
    "# for line in file(2)\n",
    "import os\n",
    "os.remove('test.txt')"
   ]
  },
  {
   "cell_type": "code",
   "execution_count": 29,
   "metadata": {},
   "outputs": [],
   "source": [
    "f=open('sanaullah.txt','w')\n",
    "f.write(\"hello aziz kb ana h\")\n",
    "f.close()\n",
    "# f=open('sanaullah.txt','r')\n",
    "# print(f.read())\n",
    "# f.close()\n",
    "f=open('sanaullah.txt','a')\n",
    "f.write(\"\\naziz ma aa gia hu\")\n",
    "f.close()\n",
    "\n",
    "f=open('sanaullah.txt','a')\n",
    "f.write(\"\\n kasy hu sir\")\n",
    "f.close()"
   ]
  },
  {
   "cell_type": "code",
   "execution_count": 17,
   "metadata": {},
   "outputs": [],
   "source": [
    "f=open('sana.txt','w')\n",
    "# char=int(input('Enter your statment'))\n",
    "f.write(input('enter string'))\n",
    "f.close()\n",
    "f=open('sana.txt','a')\n",
    "f.write(f\"\\n{input('enter new statement')}\")\n",
    "f.close()\n",
    "# f=open('sana.txt','').\n",
    "import os\n",
    "os.remove('sanaullah.txt')\n"
   ]
  },
  {
   "cell_type": "code",
   "execution_count": 41,
   "metadata": {},
   "outputs": [
    {
     "name": "stdout",
     "output_type": "stream",
     "text": [
      "10\n",
      "9\n"
     ]
    }
   ],
   "source": [
    "with open('sana.txt','w') as x:\n",
    "    print(x.write(f\"\\n{input('')}\"))\n",
    "with open('sana.txt','a') as x:\n",
    "    print(x.write(f\"\\n{input('')}\"))\n",
    "    \n"
   ]
  },
  {
   "cell_type": "code",
   "execution_count": 8,
   "metadata": {},
   "outputs": [
    {
     "name": "stdout",
     "output_type": "stream",
     "text": [
      "hello,well come file handling\n"
     ]
    }
   ],
   "source": [
    "file=open('test.txt','w')\n",
    "file.write(\"hello,well come file handling\")\n",
    "file.close()\n",
    "file=open('test.txt','r')\n",
    "txt=file.read()\n",
    "print(txt)\n",
    "file.close()\n",
    "file=open('test.txt','a')\n",
    "file.write(\" \\n new line are enter \\n hellow\")\n",
    "file.close()\n"
   ]
  },
  {
   "cell_type": "code",
   "execution_count": 36,
   "metadata": {},
   "outputs": [
    {
     "name": "stdout",
     "output_type": "stream",
     "text": [
      "sana\n",
      "\n",
      "balghari\n",
      "\n"
     ]
    }
   ],
   "source": [
    "f=open('sana.txt','r')\n",
    "print(f.readline())\n",
    "print(f.readline())"
   ]
  },
  {
   "cell_type": "code",
   "execution_count": 38,
   "metadata": {},
   "outputs": [],
   "source": [
    "# using loop\n",
    "# f=open('sana.txt','r')\n",
    "# for x in f:\n",
    "#     print(x)\n",
    "import os\n",
    "os.remove('test.txt')"
   ]
  },
  {
   "cell_type": "code",
   "execution_count": 40,
   "metadata": {},
   "outputs": [],
   "source": [
    "import os \n",
    "if os.path.exists('aziz.txt'):\n",
    "    os.remove('aziz.txt')\n",
    "else:\n",
    "    print('file does not exits')"
   ]
  },
  {
   "cell_type": "code",
   "execution_count": null,
   "metadata": {},
   "outputs": [],
   "source": []
  },
  {
   "cell_type": "markdown",
   "metadata": {},
   "source": [
    "#### python list:"
   ]
  },
  {
   "cell_type": "code",
   "execution_count": 6,
   "metadata": {},
   "outputs": [
    {
     "name": "stdout",
     "output_type": "stream",
     "text": [
      "<class 'list'>\n",
      "[5, 4, 3, 2, 1]\n",
      "[1, 2, 3, 4, 5]\n"
     ]
    }
   ],
   "source": [
    "list=[1,2,3,4,5]\n",
    "print(type(list))\n",
    "print(list[::-1])\n",
    "print(list)\n",
    " "
   ]
  },
  {
   "cell_type": "code",
   "execution_count": 13,
   "metadata": {},
   "outputs": [
    {
     "name": "stdout",
     "output_type": "stream",
     "text": [
      "3\n",
      "5\n",
      "[1, 2, 30, 4, 5]\n"
     ]
    }
   ],
   "source": [
    "list=[1,2,3,4,5]\n",
    "print(list[2])\n",
    "list[2]=30\n",
    "print((len(list)))\n",
    "print(list)"
   ]
  },
  {
   "cell_type": "code",
   "execution_count": 15,
   "metadata": {},
   "outputs": [
    {
     "name": "stdout",
     "output_type": "stream",
     "text": [
      "[1, 2, 6, 4, 5]\n"
     ]
    }
   ],
   "source": [
    "list=[1,2,3,4,5]\n",
    "list[2]=6\n",
    "print(list)\n",
    "# list replace"
   ]
  },
  {
   "cell_type": "code",
   "execution_count": 21,
   "metadata": {},
   "outputs": [
    {
     "name": "stdout",
     "output_type": "stream",
     "text": [
      "[1, 2, 3, 4, 5, 6, 7, 8, 9, 10]\n",
      "[1, 2, 3, 4, 5, 6, 7, 8, 9, 10]\n",
      "[1, 2, 3, 4, 5, 6, 7, 8, 9, 10]\n",
      "[1, 2, 3, 4, 5, 6, 7, 8, 9, 10]\n",
      "[1, 2, 3, 4, 5, 6, 7, 8, 9, 10]\n",
      "[1, 2, 3, 4, 5, 6, 7, 8, 9]\n"
     ]
    }
   ],
   "source": [
    "list1=[1,2,3,4,5]\n",
    "list2=[6,7,8,9,10]\n",
    "list=list1 + list2\n",
    "for i in range (5):\n",
    "    print(list)\n",
    "list.pop(9)\n",
    "print(list)\n"
   ]
  },
  {
   "cell_type": "code",
   "execution_count": 25,
   "metadata": {},
   "outputs": [
    {
     "ename": "SyntaxError",
     "evalue": "invalid syntax (535941359.py, line 3)",
     "output_type": "error",
     "traceback": [
      "\u001b[1;36m  Cell \u001b[1;32mIn[25], line 3\u001b[1;36m\u001b[0m\n\u001b[1;33m    list1.extend list2\u001b[0m\n\u001b[1;37m                 ^\u001b[0m\n\u001b[1;31mSyntaxError\u001b[0m\u001b[1;31m:\u001b[0m invalid syntax\n"
     ]
    }
   ],
   "source": [
    "list1=[1,2,3,4]\n",
    "list2=[5,6,7,8]\n",
    "list1.extend in list2"
   ]
  },
  {
   "cell_type": "code",
   "execution_count": 20,
   "metadata": {},
   "outputs": [
    {
     "name": "stdout",
     "output_type": "stream",
     "text": [
      "[1, 2, 3, 4, 5, 1, 2, 3, 4, 5]\n"
     ]
    }
   ],
   "source": [
    "list1=[1,2,3,4,5]\n",
    "list2=[1,2,3,4,5]\n",
    "list=list1 + list2\n",
    "print(list)\n",
    "# concenating"
   ]
  },
  {
   "cell_type": "markdown",
   "metadata": {},
   "source": [
    "#### list method"
   ]
  },
  {
   "cell_type": "code",
   "execution_count": 22,
   "metadata": {},
   "outputs": [
    {
     "ename": "TypeError",
     "evalue": "'list' object is not callable",
     "output_type": "error",
     "traceback": [
      "\u001b[1;31m---------------------------------------------------------------------------\u001b[0m",
      "\u001b[1;31mTypeError\u001b[0m                                 Traceback (most recent call last)",
      "\u001b[1;32me:\\pythhon\\task01.ipynb Cell 65\u001b[0m line \u001b[0;36m2\n\u001b[0;32m      <a href='vscode-notebook-cell:/e%3A/pythhon/task01.ipynb#Y120sZmlsZQ%3D%3D?line=0'>1</a>\u001b[0m x\u001b[39m=\u001b[39m[]\n\u001b[1;32m----> <a href='vscode-notebook-cell:/e%3A/pythhon/task01.ipynb#Y120sZmlsZQ%3D%3D?line=1'>2</a>\u001b[0m y\u001b[39m=\u001b[39m\u001b[39mlist\u001b[39;49m()\n\u001b[0;32m      <a href='vscode-notebook-cell:/e%3A/pythhon/task01.ipynb#Y120sZmlsZQ%3D%3D?line=2'>3</a>\u001b[0m \u001b[39mprint\u001b[39m(\u001b[39mtype\u001b[39m(x))\n\u001b[0;32m      <a href='vscode-notebook-cell:/e%3A/pythhon/task01.ipynb#Y120sZmlsZQ%3D%3D?line=3'>4</a>\u001b[0m \u001b[39mprint\u001b[39m(\u001b[39mtype\u001b[39m(y))\n",
      "\u001b[1;31mTypeError\u001b[0m: 'list' object is not callable"
     ]
    }
   ],
   "source": [
    "x=[]\n",
    "y=list()\n",
    "print(type(x))\n",
    "print(type(y))"
   ]
  },
  {
   "cell_type": "code",
   "execution_count": 27,
   "metadata": {},
   "outputs": [
    {
     "name": "stdout",
     "output_type": "stream",
     "text": [
      "[1, 2, 3, 4, 5, 6, 7, 8, 9]\n"
     ]
    }
   ],
   "source": [
    "list1=[1,2,3,4,5]\n",
    "list1.append(7)\n",
    "print(list)"
   ]
  },
  {
   "cell_type": "code",
   "execution_count": 36,
   "metadata": {},
   "outputs": [
    {
     "name": "stdout",
     "output_type": "stream",
     "text": [
      "[7, 8, 9, 10, 1, 2, 3, 4, 5, 6]\n"
     ]
    }
   ],
   "source": [
    "list1=[1,2,3,4,5,6]\n",
    "list2=[7,8,9,10,]\n",
    "list2.extend(list1)\n",
    "print(list2)"
   ]
  },
  {
   "cell_type": "code",
   "execution_count": 39,
   "metadata": {},
   "outputs": [
    {
     "name": "stdout",
     "output_type": "stream",
     "text": [
      "[1, 2, 3, 4, 5, 5, 6]\n"
     ]
    }
   ],
   "source": [
    "list1=[1,2,3,4,5,5,6]\n",
    "list1.count(5)\n",
    "print(list1)"
   ]
  },
  {
   "cell_type": "code",
   "execution_count": 47,
   "metadata": {},
   "outputs": [
    {
     "name": "stdout",
     "output_type": "stream",
     "text": [
      "[5, 1, 3, 4, 5]\n",
      "[5, 4, 3, 1, 5]\n",
      "[1, 3, 4, 5, 5]\n"
     ]
    }
   ],
   "source": [
    "list1=[1,2,3,4,5,6]\n",
    "list1.insert(0,5)\n",
    "list1.pop(2)\n",
    "list1.remove(6)\n",
    "print(list1)\n",
    "list1.reverse()\n",
    "print(list1)\n",
    "list1.sort()\n",
    "print(list1)"
   ]
  },
  {
   "cell_type": "code",
   "execution_count": 31,
   "metadata": {},
   "outputs": [
    {
     "name": "stdout",
     "output_type": "stream",
     "text": [
      "[1, 3, 4, 5, 6]\n"
     ]
    }
   ],
   "source": [
    "list=[1,2,3,4,5,6]\n",
    "list.pop(1)\n",
    "print(list)\n",
    "# pop is reterive"
   ]
  },
  {
   "cell_type": "code",
   "execution_count": 33,
   "metadata": {},
   "outputs": [
    {
     "name": "stdout",
     "output_type": "stream",
     "text": [
      "[1, 3, 4, 5, 6]\n"
     ]
    }
   ],
   "source": [
    "list=[1,2,3,4,5,6]\n",
    "list.remove(2)\n",
    "print(list)\n",
    "# exeact value delte "
   ]
  },
  {
   "cell_type": "code",
   "execution_count": 34,
   "metadata": {},
   "outputs": [
    {
     "name": "stdout",
     "output_type": "stream",
     "text": [
      "[6, 5, 4, 3, 2, 1]\n"
     ]
    }
   ],
   "source": [
    "list=[1,2,3,4,5,6]\n",
    "list.reverse()\n",
    "print(list)"
   ]
  },
  {
   "cell_type": "code",
   "execution_count": 46,
   "metadata": {},
   "outputs": [
    {
     "name": "stdout",
     "output_type": "stream",
     "text": [
      "[1, 2, 3, 4, 5, 6]\n"
     ]
    }
   ],
   "source": [
    "list=[2,1,3,5,4,6]\n",
    "list.sort()\n",
    "print(list)"
   ]
  },
  {
   "cell_type": "code",
   "execution_count": 39,
   "metadata": {},
   "outputs": [
    {
     "name": "stdout",
     "output_type": "stream",
     "text": [
      "[1, 3, 5, 4, 6]\n"
     ]
    }
   ],
   "source": [
    "list=[2,1,3,5,4,6]\n",
    "list.index(2)\n",
    "list.remove(2)\n",
    "print(list)"
   ]
  },
  {
   "cell_type": "code",
   "execution_count": 19,
   "metadata": {},
   "outputs": [
    {
     "name": "stdout",
     "output_type": "stream",
     "text": [
      "21\n",
      "6\n",
      "1\n",
      "6\n",
      "3.5\n"
     ]
    }
   ],
   "source": [
    "list=[2,1,3,5,4,6]\n",
    "print(sum(list))\n",
    "print(max(list))\n",
    "print(min(list))\n",
    "print(len(list))\n",
    "print((sum(list))/(len(list)))"
   ]
  },
  {
   "cell_type": "markdown",
   "metadata": {},
   "source": []
  },
  {
   "cell_type": "code",
   "execution_count": 53,
   "metadata": {},
   "outputs": [
    {
     "name": "stdout",
     "output_type": "stream",
     "text": [
      "['a', 'list,', 'of', '', '', '', '', '', '', '', '', '', '', 'space']\n",
      "['A', ' lot', 'of comma', '']\n"
     ]
    }
   ],
   "source": [
    "str1=(\"a list, of           space\")\n",
    "print(str1.split(' '))\n",
    "str2=(\"A, lot,of comma,\")\n",
    "print(str2.split(','))"
   ]
  },
  {
   "cell_type": "markdown",
   "metadata": {},
   "source": []
  },
  {
   "cell_type": "code",
   "execution_count": 65,
   "metadata": {},
   "outputs": [
    {
     "ename": "ValueError",
     "evalue": "empty separator",
     "output_type": "error",
     "traceback": [
      "\u001b[1;31m---------------------------------------------------------------------------\u001b[0m",
      "\u001b[1;31mValueError\u001b[0m                                Traceback (most recent call last)",
      "\u001b[1;32me:\\pythhon\\task01.ipynb Cell 77\u001b[0m line \u001b[0;36m2\n\u001b[0;32m      <a href='vscode-notebook-cell:/e%3A/pythhon/task01.ipynb#Y136sZmlsZQ%3D%3D?line=0'>1</a>\u001b[0m emial\u001b[39m=\u001b[39m\u001b[39m'\u001b[39m\u001b[39msanaullahakhonx289@gmial.com\u001b[39m\u001b[39m'\u001b[39m\n\u001b[1;32m----> <a href='vscode-notebook-cell:/e%3A/pythhon/task01.ipynb#Y136sZmlsZQ%3D%3D?line=1'>2</a>\u001b[0m words\u001b[39m=\u001b[39memial\u001b[39m.\u001b[39;49msplit(\u001b[39m'\u001b[39;49m\u001b[39m'\u001b[39;49m)\n\u001b[0;32m      <a href='vscode-notebook-cell:/e%3A/pythhon/task01.ipynb#Y136sZmlsZQ%3D%3D?line=2'>3</a>\u001b[0m \u001b[39mprint\u001b[39m(words[\u001b[39m1\u001b[39m])\n\u001b[0;32m      <a href='vscode-notebook-cell:/e%3A/pythhon/task01.ipynb#Y136sZmlsZQ%3D%3D?line=3'>4</a>\u001b[0m pieces\u001b[39m=\u001b[39mwords[\u001b[39m1\u001b[39m]\u001b[39m.\u001b[39msplit(\u001b[39m'\u001b[39m\u001b[39m'\u001b[39m)\n",
      "\u001b[1;31mValueError\u001b[0m: empty separator"
     ]
    }
   ],
   "source": [
    "emial='sanaullahakhonx289@gmial.com'\n",
    "words=emial.split('')\n",
    "print(words[1])\n",
    "pieces=words[1].split('')\n",
    "print(pieces)"
   ]
  },
  {
   "cell_type": "code",
   "execution_count": null,
   "metadata": {},
   "outputs": [],
   "source": []
  },
  {
   "cell_type": "markdown",
   "metadata": {},
   "source": [
    "#### list compherinsion"
   ]
  },
  {
   "cell_type": "code",
   "execution_count": 63,
   "metadata": {},
   "outputs": [
    {
     "name": "stdout",
     "output_type": "stream",
     "text": [
      "[1, 4, 7, 10, 13, 16, 19]\n"
     ]
    }
   ],
   "source": [
    "squres=[x+1 for x in range (20) if x%3==0]\n",
    "print(squres)"
   ]
  },
  {
   "cell_type": "code",
   "execution_count": 48,
   "metadata": {},
   "outputs": [
    {
     "name": "stdout",
     "output_type": "stream",
     "text": [
      "[1, 4, 7, 10, 13, 16, 19]\n"
     ]
    }
   ],
   "source": [
    "list=[x+1 for x in range (20) if x%3==0]\n",
    "print (list)"
   ]
  },
  {
   "cell_type": "code",
   "execution_count": 58,
   "metadata": {},
   "outputs": [
    {
     "name": "stdout",
     "output_type": "stream",
     "text": [
      "kewi\n",
      "yes! this fruite is available enjoy the fruite\n"
     ]
    }
   ],
   "source": [
    "list=['apple','banana','kewi']\n",
    "item=input('enter name of furite which you want')\n",
    "print(item)\n",
    "if item in list:\n",
    "    print('yes! this fruite is available enjoy the fruite')\n",
    "else:\n",
    "    print('this fruite is not avilable')"
   ]
  },
  {
   "cell_type": "code",
   "execution_count": 70,
   "metadata": {},
   "outputs": [
    {
     "name": "stdout",
     "output_type": "stream",
     "text": [
      "apple\n",
      "banna\n",
      "kewi\n"
     ]
    }
   ],
   "source": [
    "list1 = ['apple','banna','kewi']\n",
    "i = 0\n",
    "while i < len(list1):\n",
    "    print(list1[i])\n",
    "    i = i + 1"
   ]
  },
  {
   "cell_type": "code",
   "execution_count": 64,
   "metadata": {},
   "outputs": [
    {
     "name": "stdout",
     "output_type": "stream",
     "text": [
      "apple\n",
      "banana\n",
      "cherry\n"
     ]
    }
   ],
   "source": [
    "thislist = [\"apple\", \"banana\", \"cherry\"]\n",
    "i = 0\n",
    "while i < len(thislist):\n",
    "  print(thislist[i])\n",
    "  i = i + 1"
   ]
  },
  {
   "cell_type": "code",
   "execution_count": 1,
   "metadata": {},
   "outputs": [
    {
     "name": "stdout",
     "output_type": "stream",
     "text": [
      "[]\n"
     ]
    }
   ],
   "source": [
    "list=[1,2,3,4,5]\n",
    "list.clear()\n",
    "print(list)"
   ]
  },
  {
   "cell_type": "code",
   "execution_count": 14,
   "metadata": {},
   "outputs": [
    {
     "name": "stdout",
     "output_type": "stream",
     "text": [
      "1\n",
      "['sanaullahbalghari@gmial.come ismialyougovi@gmial.com itajubalti@gmial.com']\n"
     ]
    }
   ],
   "source": [
    "emial='''sanaullahbalghari@gmial.come ismialyougovi@gmial.com itajubalti@gmial.com'''\n",
    "toatal=emial.split('&')\n",
    "print(len(toatal))\n",
    "print(toatal)"
   ]
  },
  {
   "cell_type": "code",
   "execution_count": 32,
   "metadata": {},
   "outputs": [
    {
     "name": "stdout",
     "output_type": "stream",
     "text": [
      "['sanaullah', 'gmial.com']\n",
      "['sanaullah', 'gmial.com']\n"
     ]
    }
   ],
   "source": [
    "\n"
   ]
  },
  {
   "cell_type": "code",
   "execution_count": 33,
   "metadata": {},
   "outputs": [
    {
     "name": "stdout",
     "output_type": "stream",
     "text": [
      "['sanaullah', 'gmial.com']\n"
     ]
    }
   ],
   "source": [
    "list1=[]\n",
    "while True:\n",
    "  emial=input(\"Enter emilas\")\n",
    "  total=emial.split('@')\n",
    "  if emial=='0':\n",
    "    break\n",
    "  list1.append(emial)\n",
    "  print(toatal)"
   ]
  },
  {
   "cell_type": "code",
   "execution_count": 5,
   "metadata": {},
   "outputs": [
    {
     "ename": "NameError",
     "evalue": "name 'n' is not defined",
     "output_type": "error",
     "traceback": [
      "\u001b[1;31m---------------------------------------------------------------------------\u001b[0m",
      "\u001b[1;31mNameError\u001b[0m                                 Traceback (most recent call last)",
      "\u001b[1;32me:\\pythhon\\task01.ipynb Cell 88\u001b[0m line \u001b[0;36m1\n\u001b[1;32m----> <a href='vscode-notebook-cell:/e%3A/pythhon/task01.ipynb#Y153sZmlsZQ%3D%3D?line=0'>1</a>\u001b[0m \u001b[39mwhile\u001b[39;00m n\u001b[39m>\u001b[39m\u001b[39m0\u001b[39m:\n\u001b[0;32m      <a href='vscode-notebook-cell:/e%3A/pythhon/task01.ipynb#Y153sZmlsZQ%3D%3D?line=1'>2</a>\u001b[0m     n\u001b[39m=\u001b[39m\u001b[39mint\u001b[39m(\u001b[39minput\u001b[39m(\u001b[39m'\u001b[39m\u001b[39mEnter a number\u001b[39m\u001b[39m'\u001b[39m))\n\u001b[0;32m      <a href='vscode-notebook-cell:/e%3A/pythhon/task01.ipynb#Y153sZmlsZQ%3D%3D?line=2'>3</a>\u001b[0m     \u001b[39mprint\u001b[39m(n)\n",
      "\u001b[1;31mNameError\u001b[0m: name 'n' is not defined"
     ]
    }
   ],
   "source": [
    "while n>0:\n",
    "    n=int(input('Enter a number'))\n",
    "    print(n)\n",
    "    n=n-1\n",
    "    if n==0:\n",
    "           break"
   ]
  },
  {
   "cell_type": "code",
   "execution_count": 27,
   "metadata": {},
   "outputs": [
    {
     "name": "stdout",
     "output_type": "stream",
     "text": [
      "['1']\n",
      "['1', '2']\n",
      "['1', '2', '7']\n",
      "the length is 3\n"
     ]
    }
   ],
   "source": [
    "values = []\n",
    "while True:\n",
    "    num = input(\"Enter a value \")\n",
    "    if num== \"s\":\n",
    "        break \n",
    "    values.append(num)\n",
    "    print(values)\n",
    "# a=len(values)\n",
    "# print(\"the lentght of list is\",len(values))\n",
    "print(f'the length is {len(values)}')\n",
    "\n",
    "\n",
    "\n",
    "\n"
   ]
  },
  {
   "cell_type": "code",
   "execution_count": 7,
   "metadata": {},
   "outputs": [
    {
     "name": "stdout",
     "output_type": "stream",
     "text": [
      "  jumps over  like\n"
     ]
    }
   ],
   "source": [
    "words='A quick brown fox,  jumps over  like, a little lazy,dog'\n",
    "value=words.split(',')\n",
    "for temp in value:\n",
    "    if 'over' in temp:\n",
    "        print(temp)\n",
    "\n"
   ]
  },
  {
   "cell_type": "code",
   "execution_count": 30,
   "metadata": {},
   "outputs": [
    {
     "name": "stdout",
     "output_type": "stream",
     "text": [
      "{'grade': 100}\n"
     ]
    }
   ],
   "source": [
    "purse={}\n",
    "purse['grade']=1\n",
    "print(purse)"
   ]
  },
  {
   "cell_type": "code",
   "execution_count": 11,
   "metadata": {},
   "outputs": [
    {
     "ename": "KeyError",
     "evalue": "'canday'",
     "output_type": "error",
     "traceback": [
      "\u001b[1;31m---------------------------------------------------------------------------\u001b[0m",
      "\u001b[1;31mKeyError\u001b[0m                                  Traceback (most recent call last)",
      "\u001b[1;32me:\\pythhon\\task01.ipynb Cell 96\u001b[0m line \u001b[0;36m4\n\u001b[0;32m      <a href='vscode-notebook-cell:/e%3A/pythhon/task01.ipynb#Y165sZmlsZQ%3D%3D?line=1'>2</a>\u001b[0m purse[\u001b[39m'\u001b[39m\u001b[39mmoney\u001b[39m\u001b[39m'\u001b[39m]\u001b[39m=\u001b[39m\u001b[39m500\u001b[39m\n\u001b[0;32m      <a href='vscode-notebook-cell:/e%3A/pythhon/task01.ipynb#Y165sZmlsZQ%3D%3D?line=2'>3</a>\u001b[0m purse[\u001b[39m'\u001b[39m\u001b[39mcandy\u001b[39m\u001b[39m'\u001b[39m]\u001b[39m=\u001b[39m\u001b[39m4\u001b[39m\n\u001b[1;32m----> <a href='vscode-notebook-cell:/e%3A/pythhon/task01.ipynb#Y165sZmlsZQ%3D%3D?line=3'>4</a>\u001b[0m purse[\u001b[39m'\u001b[39m\u001b[39mtssues\u001b[39m\u001b[39m'\u001b[39m]\u001b[39m=\u001b[39m purse[\u001b[39m'\u001b[39;49m\u001b[39mcanday\u001b[39;49m\u001b[39m'\u001b[39;49m]\u001b[39m+\u001b[39m\u001b[39m2\u001b[39m\n\u001b[0;32m      <a href='vscode-notebook-cell:/e%3A/pythhon/task01.ipynb#Y165sZmlsZQ%3D%3D?line=4'>5</a>\u001b[0m purse[\u001b[39m\"\u001b[39m\u001b[39mcards\u001b[39m\u001b[39m\"\u001b[39m]\u001b[39m=\u001b[39mpurse[\u001b[39m\"\u001b[39m\u001b[39mcanday\u001b[39m\u001b[39m\"\u001b[39m] \u001b[39m+\u001b[39m purse[\u001b[39m\"\u001b[39m\u001b[39mtssues\u001b[39m\u001b[39m\"\u001b[39m]\n\u001b[0;32m      <a href='vscode-notebook-cell:/e%3A/pythhon/task01.ipynb#Y165sZmlsZQ%3D%3D?line=6'>7</a>\u001b[0m \u001b[39m# purse.popitem('money')\u001b[39;00m\n",
      "\u001b[1;31mKeyError\u001b[0m: 'canday'"
     ]
    }
   ],
   "source": [
    "purse={}\n",
    "purse['money']=500\n",
    "purse['candy']=4\n",
    "purse['tssues']= purse['canday']+2\n",
    "purse[\"cards\"]=purse[\"canday\"] + purse[\"tssues\"]\n",
    "\n",
    "# purse.popitem('money')\n",
    "purse.update({'labtop':1, 'lipstic':2})\n",
    "print(purse)"
   ]
  },
  {
   "cell_type": "markdown",
   "metadata": {},
   "source": [
    "### tuple:"
   ]
  },
  {
   "cell_type": "code",
   "execution_count": 9,
   "metadata": {},
   "outputs": [
    {
     "name": "stdout",
     "output_type": "stream",
     "text": [
      "money 500\n",
      "candy 4\n"
     ]
    }
   ],
   "source": [
    "for v,k in purse.items():\n",
    "    print(v,k)\n"
   ]
  },
  {
   "cell_type": "code",
   "execution_count": 15,
   "metadata": {},
   "outputs": [
    {
     "name": "stdout",
     "output_type": "stream",
     "text": [
      "None\n"
     ]
    }
   ],
   "source": [
    "purse={}\n",
    "purse['money']=500\n",
    "purse['candy']=4\n",
    "print(purse.get('apple'))\n",
    "# get function"
   ]
  },
  {
   "cell_type": "markdown",
   "metadata": {},
   "source": [
    "#### OOP:"
   ]
  },
  {
   "cell_type": "code",
   "execution_count": 7,
   "metadata": {},
   "outputs": [
    {
     "name": "stdout",
     "output_type": "stream",
     "text": [
      "this dog\n",
      "woow woow\n"
     ]
    }
   ],
   "source": [
    "class Animal:\n",
    "    def Dog(voice):\n",
    "        return(\"this dog\")\n",
    "    def bark(self):\n",
    "        return(\"woow woow\")\n",
    "voice=Animal()\n",
    "print(voice.Dog())\n",
    "print(voice.bark())"
   ]
  },
  {
   "cell_type": "code",
   "execution_count": 10,
   "metadata": {},
   "outputs": [
    {
     "name": "stdout",
     "output_type": "stream",
     "text": [
      "The age of sanaullah is 40\n"
     ]
    }
   ],
   "source": [
    "class person:\n",
    "    def __init__(self,name,age):\n",
    "        self.name=name\n",
    "        self.age=age\n",
    "    def __str__ (self):\n",
    "        return f\"The age of {self.name} is {self.age}\"\n",
    "p1=person(\"sanaullah\",40)\n",
    "print(p1)"
   ]
  },
  {
   "cell_type": "code",
   "execution_count": 16,
   "metadata": {},
   "outputs": [
    {
     "name": "stdout",
     "output_type": "stream",
     "text": [
      "1\n"
     ]
    },
    {
     "data": {
      "text/plain": [
       "3"
      ]
     },
     "execution_count": 16,
     "metadata": {},
     "output_type": "execute_result"
    }
   ],
   "source": [
    "class count:\n",
    "    x=0\n",
    "    def inc(self):\n",
    "        self.x=self.x+1\n",
    "        return self.x\n",
    "\n",
    "incriment=count()\n",
    "print(incriment.inc())\n",
    "incriment.inc()\n",
    "incriment.inc()"
   ]
  },
  {
   "cell_type": "code",
   "execution_count": 37,
   "metadata": {},
   "outputs": [
    {
     "name": "stdout",
     "output_type": "stream",
     "text": [
      "The age ofsanaullah (40)\n"
     ]
    }
   ],
   "source": [
    "class person:\n",
    "    def __init__(self,name,age):\n",
    "        self.name=name\n",
    "        self.age=age\n",
    "    def __str__(self):\n",
    "        return f\"The age of{self.name} ({self.age})\"\n",
    "p1=person('sanaullah',40)\n",
    "print(p1)\n",
    "# print(p1.name)\n",
    "# print(p1.age)\n",
    "        "
   ]
  },
  {
   "cell_type": "code",
   "execution_count": 45,
   "metadata": {},
   "outputs": [
    {
     "name": "stdout",
     "output_type": "stream",
     "text": [
      "the car name is parado\n",
      " model is 2020 \n",
      "color is(red)\n"
     ]
    }
   ],
   "source": [
    "class car:\n",
    "    def __init__(self,name,model,color) :\n",
    "            self.name=name\n",
    "            self.model=model\n",
    "            self.color=color\n",
    "    \n",
    "    def __str__(self) -> str:\n",
    "          return f\"the car name is {self.name}\\n model is {self.model} \\ncolor is({self.color})\"\n",
    "p1=car('parado',2020,'red')\n",
    "print(p1)\n"
   ]
  },
  {
   "cell_type": "code",
   "execution_count": 48,
   "metadata": {},
   "outputs": [
    {
     "name": "stdout",
     "output_type": "stream",
     "text": [
      "Hello my name is John\n"
     ]
    }
   ],
   "source": [
    "class Person:\n",
    "  def __init__(mysillyobject, name, age):\n",
    "    mysillyobject.name = name\n",
    "    mysillyobject.age = age\n",
    "\n",
    "  def myfunc(abc):\n",
    "    print(\"Hello my name is \" + abc.name)\n",
    "\n",
    "p1 = Person(\"John\", 36)\n",
    "p1.myfunc()"
   ]
  },
  {
   "cell_type": "markdown",
   "metadata": {},
   "source": [
    "### inheritence:"
   ]
  },
  {
   "cell_type": "code",
   "execution_count": 9,
   "metadata": {},
   "outputs": [
    {
     "name": "stdout",
     "output_type": "stream",
     "text": [
      "the name of person is ali the age of person is 23\n"
     ]
    }
   ],
   "source": [
    "class python:\n",
    "    def __init__(self,name):\n",
    "        self.name=name\n",
    "    def __str__(self) -> str:\n",
    "        return f\"the name of person is {self.name}\"\n",
    "class student(python):\n",
    "    def __init__(self, name,age):\n",
    "        super().__init__(name)\n",
    "        self.age=age\n",
    "\n",
    "    def __str__(self) -> str:\n",
    "        return super().__str__()+ f\" the age of person is {self.age}\"\n",
    "\n",
    "    \n",
    "p1=student('ali',23)\n",
    "\n",
    "print(p1)"
   ]
  }
 ],
 "metadata": {
  "kernelspec": {
   "display_name": "Python 3",
   "language": "python",
   "name": "python3"
  },
  "language_info": {
   "codemirror_mode": {
    "name": "ipython",
    "version": 3
   },
   "file_extension": ".py",
   "mimetype": "text/x-python",
   "name": "python",
   "nbconvert_exporter": "python",
   "pygments_lexer": "ipython3",
   "version": "3.11.2"
  },
  "orig_nbformat": 4
 },
 "nbformat": 4,
 "nbformat_minor": 2
}
