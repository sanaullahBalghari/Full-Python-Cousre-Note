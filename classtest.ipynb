{
 "cells": [
  {
   "cell_type": "code",
   "execution_count": 45,
   "metadata": {},
   "outputs": [
    {
     "name": "stdout",
     "output_type": "stream",
     "text": [
      "invalid\n"
     ]
    }
   ],
   "source": [
    "# test o1:\n",
    "value1=int(input('Enter value 1'))\n",
    "value2=int(input('Enter value 2'))\n",
    "operator=input('Enter an operator ')\n",
    "if operator=='+':\n",
    "    print('The addition is ',value1+value2)\n",
    "elif operator=='-':\n",
    "    print('The substraction is',value1-value2)\n",
    "elif operator=='*':\n",
    "    print('The multipliction is',value1*value2)\n",
    "try:\n",
    "    if operator=='/':\n",
    "        print('The division is',value1/value2)\n",
    "except:\n",
    "    print(\"invalid\")\n",
    "else:\n",
    "    print('wrong operator')\n"
   ]
  },
  {
   "cell_type": "code",
   "execution_count": 44,
   "metadata": {},
   "outputs": [
    {
     "name": "stdout",
     "output_type": "stream",
     "text": [
      "the length of string is 5\n",
      "HELLO\n",
      "['hello']\n",
      "helloword\n",
      "-1\n"
     ]
    }
   ],
   "source": [
    "#  task 04\n",
    "a=input(\"enter any string\")\n",
    "b=input(\"enter any string\")\n",
    "print(\"the length of string is\",len(a))\n",
    "print(a.upper()) \n",
    "print(a.split(\",\"))\n",
    "print(a+b)\n",
    "print(a.find('w'))\n",
    "\n",
    "\n",
    "\n",
    "\n",
    "# count=a+b\n",
    "# print(count)\n"
   ]
  },
  {
   "cell_type": "code",
   "execution_count": 29,
   "metadata": {},
   "outputs": [
    {
     "name": "stdout",
     "output_type": "stream",
     "text": [
      "10 x 1,10\n",
      "10 x 2,20\n",
      "10 x 3,30\n",
      "10 x 4,40\n",
      "10 x 5,50\n",
      "10 x 6,60\n",
      "10 x 7,70\n",
      "10 x 8,80\n",
      "10 x 9,90\n",
      "10 x 10,100\n"
     ]
    }
   ],
   "source": [
    "num = 10\n",
    "\n",
    "for i in range(1, 11):\n",
    "    multiple= num * i\n",
    "    print(f\"{num} x {i},{multiple}\")\n"
   ]
  },
  {
   "cell_type": "code",
   "execution_count": 43,
   "metadata": {},
   "outputs": [
    {
     "name": "stdout",
     "output_type": "stream",
     "text": [
      "odd number\n"
     ]
    }
   ],
   "source": [
    "num=int(input(\"enter a number\"))\n",
    "def calculate():\n",
    "    if num%2 == 0:\n",
    "        print(\"even number\")\n",
    "    else:\n",
    "        print(\"odd number\")\n",
    "calculate()"
   ]
  },
  {
   "cell_type": "code",
   "execution_count": 4,
   "metadata": {},
   "outputs": [
    {
     "ename": "IndentationError",
     "evalue": "unexpected indent (3023099332.py, line 2)",
     "output_type": "error",
     "traceback": [
      "\u001b[1;36m  Cell \u001b[1;32mIn[4], line 2\u001b[1;36m\u001b[0m\n\u001b[1;33m    thisdict={\u001b[0m\n\u001b[1;37m    ^\u001b[0m\n\u001b[1;31mIndentationError\u001b[0m\u001b[1;31m:\u001b[0m unexpected indent\n"
     ]
    }
   ],
   "source": [
    "# class student:\n",
    " thisdict={\n",
    "    q=input(\"enter name\")\n",
    "    }\n",
    "#     def __init__(self,name,rollno,dep,Dob,emial) -> None:\n",
    "#         self.name=name\n",
    "#         self.rollno=rollno\n",
    "#         self.dep=dep\n",
    "#         self.Dob=Dob\n",
    "#         self.emial=emial\n",
    "\n",
    "# temp=int(input(\"enter a student detial\"))\n"
   ]
  },
  {
   "cell_type": "code",
   "execution_count": 6,
   "metadata": {},
   "outputs": [
    {
     "name": "stdout",
     "output_type": "stream",
     "text": [
      "{'sanaullah': 48}\n"
     ]
    }
   ],
   "source": [
    "thisdict={\n",
    "    'sanaullah':{\"sanaullah\": 48}\n",
    "}\n",
    "print(thisdict['sanaullah'])"
   ]
  },
  {
   "cell_type": "code",
   "execution_count": 9,
   "metadata": {},
   "outputs": [
    {
     "ename": "SyntaxError",
     "evalue": "cannot assign to literal here. Maybe you meant '==' instead of '='? (3506077088.py, line 2)",
     "output_type": "error",
     "traceback": [
      "\u001b[1;36m  Cell \u001b[1;32mIn[9], line 2\u001b[1;36m\u001b[0m\n\u001b[1;33m    'name'=input(\"\")\u001b[0m\n\u001b[1;37m    ^\u001b[0m\n\u001b[1;31mSyntaxError\u001b[0m\u001b[1;31m:\u001b[0m cannot assign to literal here. Maybe you meant '==' instead of '='?\n"
     ]
    }
   ],
   "source": [
    "list=()\n",
    "print(list)"
   ]
  },
  {
   "cell_type": "code",
   "execution_count": 16,
   "metadata": {},
   "outputs": [
    {
     "name": "stdout",
     "output_type": "stream",
     "text": [
      "==============wellcome===============\n",
      "press 1 for insert\n",
      "press 2 for update\n",
      "press 3 for Delete\n",
      "press 4 for serach\n",
      "=====================================\n",
      "{'name': 'sana', 'rollno': '48', 'emial': 'sanaullahakhonzada@gmial.com'}\n"
     ]
    }
   ],
   "source": [
    "print(\"==============wellcome===============\")\n",
    "print(\"press 1 for insert\\npress 2 for update\\npress 3 for Delete\\npress 4 for serach\")\n",
    "print(\"=====================================\")\n",
    "stu=input(\"Enter your choice\")\n",
    "thisdict={\n",
    "        'name':\"sana\",\n",
    "        'rollno':\"48\",\n",
    "        'emial':'sanaullahakhonzada@gmial.com',\n",
    "    }\n",
    "\n",
    "temp=thisdict.update()\n",
    "\n",
    "\n",
    "print(thisdict)\n"
   ]
  }
 ],
 "metadata": {
  "kernelspec": {
   "display_name": "Python 3",
   "language": "python",
   "name": "python3"
  },
  "language_info": {
   "codemirror_mode": {
    "name": "ipython",
    "version": 3
   },
   "file_extension": ".py",
   "mimetype": "text/x-python",
   "name": "python",
   "nbconvert_exporter": "python",
   "pygments_lexer": "ipython3",
   "version": "3.11.2"
  }
 },
 "nbformat": 4,
 "nbformat_minor": 2
}
